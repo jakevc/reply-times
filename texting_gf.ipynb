{
 "cells": [
  {
   "cell_type": "markdown",
   "metadata": {},
   "source": [
    "My girlfriend recently accused me of taking a long time to reply over text message, supposedly longer than her. This made me wonder about the actual numbers. To answer this question I would need to accesss the metadata from my imessages.. I was not entirely sure how to do this, but upon searching around for how to get these data I found a brilliant app by Ryan D'souza, the [iMessageAnalyzer](https://github.com/dsouzarc/iMessageAnalyzer). This allowed me to quickly download a csv of my conversation of interest.\n",
    "\n",
    "Here I will explore the average time it takes me to reply to my girlfriend over iMessage. The data have been masked so that my name is 'me', and my girlfriend is 'gf'; the column containing the text message at each time point was removed."
   ]
  },
  {
   "cell_type": "code",
   "execution_count": 1,
   "metadata": {
    "collapsed": true
   },
   "outputs": [],
   "source": [
    "import pandas as pd "
   ]
  },
  {
   "cell_type": "code",
   "execution_count": 2,
   "metadata": {
    "collapsed": true
   },
   "outputs": [],
   "source": [
    "gf_txt = pd.read_csv('gftxt.csv', names=['person', 'time'], parse_dates=True, header=1)"
   ]
  },
  {
   "cell_type": "markdown",
   "metadata": {},
   "source": [
    "It looks like all the information I need is in the first two columns: 'person' and 'time'. I'll store a new instance of the data frame. "
   ]
  },
  {
   "cell_type": "code",
   "execution_count": 3,
   "metadata": {},
   "outputs": [
    {
     "data": {
      "text/html": [
       "<div>\n",
       "<style>\n",
       "    .dataframe thead tr:only-child th {\n",
       "        text-align: right;\n",
       "    }\n",
       "\n",
       "    .dataframe thead th {\n",
       "        text-align: left;\n",
       "    }\n",
       "\n",
       "    .dataframe tbody tr th {\n",
       "        vertical-align: top;\n",
       "    }\n",
       "</style>\n",
       "<table border=\"1\" class=\"dataframe\">\n",
       "  <thead>\n",
       "    <tr style=\"text-align: right;\">\n",
       "      <th></th>\n",
       "      <th>person</th>\n",
       "      <th>time</th>\n",
       "    </tr>\n",
       "  </thead>\n",
       "  <tbody>\n",
       "    <tr>\n",
       "      <th>1</th>\n",
       "      <td>gf</td>\n",
       "      <td>2015-06-21 21:56:16 +0000</td>\n",
       "    </tr>\n",
       "    <tr>\n",
       "      <th>2</th>\n",
       "      <td>me</td>\n",
       "      <td>2015-06-21 22:00:32 +0000</td>\n",
       "    </tr>\n",
       "    <tr>\n",
       "      <th>3</th>\n",
       "      <td>gf</td>\n",
       "      <td>2015-07-28 18:15:08 +0000</td>\n",
       "    </tr>\n",
       "    <tr>\n",
       "      <th>4</th>\n",
       "      <td>me</td>\n",
       "      <td>2015-07-28 19:15:06 +0000</td>\n",
       "    </tr>\n",
       "    <tr>\n",
       "      <th>5</th>\n",
       "      <td>me</td>\n",
       "      <td>2015-07-28 19:15:16 +0000</td>\n",
       "    </tr>\n",
       "  </tbody>\n",
       "</table>\n",
       "</div>"
      ],
      "text/plain": [
       "  person                       time\n",
       "1     gf  2015-06-21 21:56:16 +0000\n",
       "2     me  2015-06-21 22:00:32 +0000\n",
       "3     gf  2015-07-28 18:15:08 +0000\n",
       "4     me  2015-07-28 19:15:06 +0000\n",
       "5     me  2015-07-28 19:15:16 +0000"
      ]
     },
     "execution_count": 3,
     "metadata": {},
     "output_type": "execute_result"
    }
   ],
   "source": [
    "gf_txt.head()"
   ]
  },
  {
   "cell_type": "code",
   "execution_count": 4,
   "metadata": {},
   "outputs": [
    {
     "data": {
      "text/plain": [
       "person    object\n",
       "time      object\n",
       "dtype: object"
      ]
     },
     "execution_count": 4,
     "metadata": {},
     "output_type": "execute_result"
    }
   ],
   "source": [
    "gf_txt.dtypes"
   ]
  },
  {
   "cell_type": "markdown",
   "metadata": {},
   "source": [
    "Looks like I need to change the time column to datetime!"
   ]
  },
  {
   "cell_type": "code",
   "execution_count": 5,
   "metadata": {
    "collapsed": true
   },
   "outputs": [],
   "source": [
    "gf_txt['time'] = pd.to_datetime(gf_txt['time'])\n",
    "gf_txt2 = gf_txt.copy()"
   ]
  },
  {
   "cell_type": "code",
   "execution_count": 6,
   "metadata": {},
   "outputs": [
    {
     "data": {
      "text/html": [
       "<div>\n",
       "<style>\n",
       "    .dataframe thead tr:only-child th {\n",
       "        text-align: right;\n",
       "    }\n",
       "\n",
       "    .dataframe thead th {\n",
       "        text-align: left;\n",
       "    }\n",
       "\n",
       "    .dataframe tbody tr th {\n",
       "        vertical-align: top;\n",
       "    }\n",
       "</style>\n",
       "<table border=\"1\" class=\"dataframe\">\n",
       "  <thead>\n",
       "    <tr style=\"text-align: right;\">\n",
       "      <th></th>\n",
       "      <th>person</th>\n",
       "      <th>time</th>\n",
       "    </tr>\n",
       "  </thead>\n",
       "  <tbody>\n",
       "    <tr>\n",
       "      <th>1</th>\n",
       "      <td>gf</td>\n",
       "      <td>2015-06-21 21:56:16</td>\n",
       "    </tr>\n",
       "    <tr>\n",
       "      <th>2</th>\n",
       "      <td>me</td>\n",
       "      <td>2015-06-21 22:00:32</td>\n",
       "    </tr>\n",
       "    <tr>\n",
       "      <th>3</th>\n",
       "      <td>gf</td>\n",
       "      <td>2015-07-28 18:15:08</td>\n",
       "    </tr>\n",
       "    <tr>\n",
       "      <th>4</th>\n",
       "      <td>me</td>\n",
       "      <td>2015-07-28 19:15:06</td>\n",
       "    </tr>\n",
       "    <tr>\n",
       "      <th>5</th>\n",
       "      <td>me</td>\n",
       "      <td>2015-07-28 19:15:16</td>\n",
       "    </tr>\n",
       "    <tr>\n",
       "      <th>6</th>\n",
       "      <td>gf</td>\n",
       "      <td>2015-07-28 19:33:53</td>\n",
       "    </tr>\n",
       "    <tr>\n",
       "      <th>7</th>\n",
       "      <td>me</td>\n",
       "      <td>2015-07-28 20:02:39</td>\n",
       "    </tr>\n",
       "    <tr>\n",
       "      <th>8</th>\n",
       "      <td>me</td>\n",
       "      <td>2015-07-28 21:42:38</td>\n",
       "    </tr>\n",
       "    <tr>\n",
       "      <th>9</th>\n",
       "      <td>gf</td>\n",
       "      <td>2015-07-29 05:13:23</td>\n",
       "    </tr>\n",
       "    <tr>\n",
       "      <th>10</th>\n",
       "      <td>me</td>\n",
       "      <td>2015-07-29 05:14:40</td>\n",
       "    </tr>\n",
       "    <tr>\n",
       "      <th>11</th>\n",
       "      <td>gf</td>\n",
       "      <td>2015-07-29 05:26:33</td>\n",
       "    </tr>\n",
       "    <tr>\n",
       "      <th>12</th>\n",
       "      <td>me</td>\n",
       "      <td>2015-07-29 14:08:14</td>\n",
       "    </tr>\n",
       "    <tr>\n",
       "      <th>13</th>\n",
       "      <td>me</td>\n",
       "      <td>2015-08-01 19:12:19</td>\n",
       "    </tr>\n",
       "    <tr>\n",
       "      <th>14</th>\n",
       "      <td>gf</td>\n",
       "      <td>2015-08-01 20:14:41</td>\n",
       "    </tr>\n",
       "    <tr>\n",
       "      <th>15</th>\n",
       "      <td>me</td>\n",
       "      <td>2015-08-01 22:45:11</td>\n",
       "    </tr>\n",
       "    <tr>\n",
       "      <th>16</th>\n",
       "      <td>me</td>\n",
       "      <td>2015-08-01 22:45:16</td>\n",
       "    </tr>\n",
       "    <tr>\n",
       "      <th>17</th>\n",
       "      <td>me</td>\n",
       "      <td>2015-08-01 22:45:30</td>\n",
       "    </tr>\n",
       "    <tr>\n",
       "      <th>18</th>\n",
       "      <td>gf</td>\n",
       "      <td>2015-08-01 22:48:19</td>\n",
       "    </tr>\n",
       "    <tr>\n",
       "      <th>19</th>\n",
       "      <td>me</td>\n",
       "      <td>2015-08-01 22:48:34</td>\n",
       "    </tr>\n",
       "    <tr>\n",
       "      <th>20</th>\n",
       "      <td>gf</td>\n",
       "      <td>2015-08-01 23:55:38</td>\n",
       "    </tr>\n",
       "  </tbody>\n",
       "</table>\n",
       "</div>"
      ],
      "text/plain": [
       "   person                time\n",
       "1      gf 2015-06-21 21:56:16\n",
       "2      me 2015-06-21 22:00:32\n",
       "3      gf 2015-07-28 18:15:08\n",
       "4      me 2015-07-28 19:15:06\n",
       "5      me 2015-07-28 19:15:16\n",
       "6      gf 2015-07-28 19:33:53\n",
       "7      me 2015-07-28 20:02:39\n",
       "8      me 2015-07-28 21:42:38\n",
       "9      gf 2015-07-29 05:13:23\n",
       "10     me 2015-07-29 05:14:40\n",
       "11     gf 2015-07-29 05:26:33\n",
       "12     me 2015-07-29 14:08:14\n",
       "13     me 2015-08-01 19:12:19\n",
       "14     gf 2015-08-01 20:14:41\n",
       "15     me 2015-08-01 22:45:11\n",
       "16     me 2015-08-01 22:45:16\n",
       "17     me 2015-08-01 22:45:30\n",
       "18     gf 2015-08-01 22:48:19\n",
       "19     me 2015-08-01 22:48:34\n",
       "20     gf 2015-08-01 23:55:38"
      ]
     },
     "execution_count": 6,
     "metadata": {},
     "output_type": "execute_result"
    }
   ],
   "source": [
    "gf_txt.head(20)"
   ]
  },
  {
   "cell_type": "code",
   "execution_count": 7,
   "metadata": {},
   "outputs": [
    {
     "data": {
      "text/plain": [
       "person            object\n",
       "time      datetime64[ns]\n",
       "dtype: object"
      ]
     },
     "execution_count": 7,
     "metadata": {},
     "output_type": "execute_result"
    }
   ],
   "source": [
    "gf_txt.dtypes"
   ]
  },
  {
   "cell_type": "markdown",
   "metadata": {},
   "source": [
    "It is evident sometimes one person texts the other twice, three times, etc... I only want the difference between rows where 'person' changes. To do this I will create a new row called pdiff which is just person shifted up so that I can compare the next row (pnext) to the current row (person). Then I need to select only rows where 'person' is not equal to 'pnext'."
   ]
  },
  {
   "cell_type": "code",
   "execution_count": 8,
   "metadata": {},
   "outputs": [
    {
     "data": {
      "text/html": [
       "<div>\n",
       "<style>\n",
       "    .dataframe thead tr:only-child th {\n",
       "        text-align: right;\n",
       "    }\n",
       "\n",
       "    .dataframe thead th {\n",
       "        text-align: left;\n",
       "    }\n",
       "\n",
       "    .dataframe tbody tr th {\n",
       "        vertical-align: top;\n",
       "    }\n",
       "</style>\n",
       "<table border=\"1\" class=\"dataframe\">\n",
       "  <thead>\n",
       "    <tr style=\"text-align: right;\">\n",
       "      <th></th>\n",
       "      <th>person</th>\n",
       "      <th>time</th>\n",
       "      <th>pnext</th>\n",
       "    </tr>\n",
       "  </thead>\n",
       "  <tbody>\n",
       "    <tr>\n",
       "      <th>1</th>\n",
       "      <td>gf</td>\n",
       "      <td>2015-06-21 21:56:16</td>\n",
       "      <td>me</td>\n",
       "    </tr>\n",
       "    <tr>\n",
       "      <th>2</th>\n",
       "      <td>me</td>\n",
       "      <td>2015-06-21 22:00:32</td>\n",
       "      <td>gf</td>\n",
       "    </tr>\n",
       "    <tr>\n",
       "      <th>3</th>\n",
       "      <td>gf</td>\n",
       "      <td>2015-07-28 18:15:08</td>\n",
       "      <td>me</td>\n",
       "    </tr>\n",
       "    <tr>\n",
       "      <th>5</th>\n",
       "      <td>me</td>\n",
       "      <td>2015-07-28 19:15:16</td>\n",
       "      <td>gf</td>\n",
       "    </tr>\n",
       "    <tr>\n",
       "      <th>6</th>\n",
       "      <td>gf</td>\n",
       "      <td>2015-07-28 19:33:53</td>\n",
       "      <td>me</td>\n",
       "    </tr>\n",
       "  </tbody>\n",
       "</table>\n",
       "</div>"
      ],
      "text/plain": [
       "  person                time pnext\n",
       "1     gf 2015-06-21 21:56:16    me\n",
       "2     me 2015-06-21 22:00:32    gf\n",
       "3     gf 2015-07-28 18:15:08    me\n",
       "5     me 2015-07-28 19:15:16    gf\n",
       "6     gf 2015-07-28 19:33:53    me"
      ]
     },
     "execution_count": 8,
     "metadata": {},
     "output_type": "execute_result"
    }
   ],
   "source": [
    "# create pnext that is shifted version of person\n",
    "gf_txt['pnext'] = gf_txt.person.shift(-1)\n",
    "\n",
    "# make new dataframe where each row is a change in the person who is texting\n",
    "gf_alt = gf_txt.loc[gf_txt['person'] != gf_txt['pnext']].copy()\n",
    "gf_alt.head()"
   ]
  },
  {
   "cell_type": "markdown",
   "metadata": {},
   "source": [
    "Great, now I can compute the time difference between the two entries. "
   ]
  },
  {
   "cell_type": "code",
   "execution_count": 9,
   "metadata": {},
   "outputs": [
    {
     "data": {
      "text/html": [
       "<div>\n",
       "<style>\n",
       "    .dataframe thead tr:only-child th {\n",
       "        text-align: right;\n",
       "    }\n",
       "\n",
       "    .dataframe thead th {\n",
       "        text-align: left;\n",
       "    }\n",
       "\n",
       "    .dataframe tbody tr th {\n",
       "        vertical-align: top;\n",
       "    }\n",
       "</style>\n",
       "<table border=\"1\" class=\"dataframe\">\n",
       "  <thead>\n",
       "    <tr style=\"text-align: right;\">\n",
       "      <th></th>\n",
       "      <th>person</th>\n",
       "      <th>time</th>\n",
       "      <th>pnext</th>\n",
       "      <th>tdiff</th>\n",
       "    </tr>\n",
       "  </thead>\n",
       "  <tbody>\n",
       "    <tr>\n",
       "      <th>1</th>\n",
       "      <td>gf</td>\n",
       "      <td>2015-06-21 21:56:16</td>\n",
       "      <td>me</td>\n",
       "      <td>0.000000</td>\n",
       "    </tr>\n",
       "    <tr>\n",
       "      <th>2</th>\n",
       "      <td>me</td>\n",
       "      <td>2015-06-21 22:00:32</td>\n",
       "      <td>gf</td>\n",
       "      <td>4.266667</td>\n",
       "    </tr>\n",
       "    <tr>\n",
       "      <th>3</th>\n",
       "      <td>gf</td>\n",
       "      <td>2015-07-28 18:15:08</td>\n",
       "      <td>me</td>\n",
       "      <td>1214.600000</td>\n",
       "    </tr>\n",
       "    <tr>\n",
       "      <th>5</th>\n",
       "      <td>me</td>\n",
       "      <td>2015-07-28 19:15:16</td>\n",
       "      <td>gf</td>\n",
       "      <td>60.133333</td>\n",
       "    </tr>\n",
       "    <tr>\n",
       "      <th>6</th>\n",
       "      <td>gf</td>\n",
       "      <td>2015-07-28 19:33:53</td>\n",
       "      <td>me</td>\n",
       "      <td>18.616667</td>\n",
       "    </tr>\n",
       "  </tbody>\n",
       "</table>\n",
       "</div>"
      ],
      "text/plain": [
       "  person                time pnext        tdiff\n",
       "1     gf 2015-06-21 21:56:16    me     0.000000\n",
       "2     me 2015-06-21 22:00:32    gf     4.266667\n",
       "3     gf 2015-07-28 18:15:08    me  1214.600000\n",
       "5     me 2015-07-28 19:15:16    gf    60.133333\n",
       "6     gf 2015-07-28 19:33:53    me    18.616667"
      ]
     },
     "execution_count": 9,
     "metadata": {},
     "output_type": "execute_result"
    }
   ],
   "source": [
    "# compute time difference in seconds as new column\n",
    "gf_alt['tdiff'] = gf_alt['time'].diff().dt.seconds.div(60, fill_value = 0)\n",
    "gf_alt.head()"
   ]
  },
  {
   "cell_type": "markdown",
   "metadata": {},
   "source": [
    "The dataframe now has column 'tdiff' representing the time in minutes since the last person. Becasue I have ensured that persons are truely alternating, the 'tdiff' column represents the reply time for the current person. Let's see each person's average reply time since 2015."
   ]
  },
  {
   "cell_type": "code",
   "execution_count": 10,
   "metadata": {},
   "outputs": [
    {
     "data": {
      "text/plain": [
       "tdiff    134.83797\n",
       "dtype: float64"
      ]
     },
     "execution_count": 10,
     "metadata": {},
     "output_type": "execute_result"
    }
   ],
   "source": [
    "gf_alt[gf_alt['person'] == 'me'].mean()"
   ]
  },
  {
   "cell_type": "code",
   "execution_count": 11,
   "metadata": {},
   "outputs": [
    {
     "data": {
      "text/plain": [
       "tdiff    159.375923\n",
       "dtype: float64"
      ]
     },
     "execution_count": 11,
     "metadata": {},
     "output_type": "execute_result"
    }
   ],
   "source": [
    "gf_alt[gf_alt['person'] == 'gf'].mean()"
   ]
  },
  {
   "cell_type": "markdown",
   "metadata": {},
   "source": [
    "It appears I have the faster reply time since 2015... interesting. What do these data look like as a graph? "
   ]
  },
  {
   "cell_type": "code",
   "execution_count": 12,
   "metadata": {
    "collapsed": true
   },
   "outputs": [],
   "source": [
    "%matplotlib inline"
   ]
  },
  {
   "cell_type": "code",
   "execution_count": 13,
   "metadata": {
    "collapsed": true
   },
   "outputs": [],
   "source": [
    "import matplotlib as mpl\n",
    "import matplotlib.pyplot as plt\n",
    "import matplotlib.dates as mdates "
   ]
  },
  {
   "cell_type": "code",
   "execution_count": 14,
   "metadata": {
    "collapsed": true
   },
   "outputs": [],
   "source": [
    "import seaborn as sns\n"
   ]
  },
  {
   "cell_type": "code",
   "execution_count": 15,
   "metadata": {},
   "outputs": [
    {
     "data": {
      "text/plain": [
       "[<matplotlib.lines.Line2D at 0x118cfd908>]"
      ]
     },
     "execution_count": 15,
     "metadata": {},
     "output_type": "execute_result"
    },
    {
     "data": {
      "image/png": "[encoded data removed]",
      "text/plain": [
       "<matplotlib.figure.Figure at 0x118c653c8>"
      ]
     },
     "metadata": {},
     "output_type": "display_data"
    }
   ],
   "source": [
    "plt.plot(gf_alt['time'], gf_alt['tdiff'])"
   ]
  },
  {
   "cell_type": "markdown",
   "metadata": {},
   "source": [
    "This does not help. Maybe a montly average will do."
   ]
  },
  {
   "cell_type": "code",
   "execution_count": 16,
   "metadata": {},
   "outputs": [
    {
     "data": {
      "text/html": [
       "<div>\n",
       "<style>\n",
       "    .dataframe thead tr:only-child th {\n",
       "        text-align: right;\n",
       "    }\n",
       "\n",
       "    .dataframe thead th {\n",
       "        text-align: left;\n",
       "    }\n",
       "\n",
       "    .dataframe tbody tr th {\n",
       "        vertical-align: top;\n",
       "    }\n",
       "</style>\n",
       "<table border=\"1\" class=\"dataframe\">\n",
       "  <thead>\n",
       "    <tr style=\"text-align: right;\">\n",
       "      <th></th>\n",
       "      <th>person</th>\n",
       "      <th>tdiff</th>\n",
       "      <th>time</th>\n",
       "    </tr>\n",
       "  </thead>\n",
       "  <tbody>\n",
       "    <tr>\n",
       "      <th>1</th>\n",
       "      <td>gf</td>\n",
       "      <td>0.000000</td>\n",
       "      <td>2015-06-21 21:56:16</td>\n",
       "    </tr>\n",
       "    <tr>\n",
       "      <th>2</th>\n",
       "      <td>me</td>\n",
       "      <td>4.266667</td>\n",
       "      <td>2015-06-21 22:00:32</td>\n",
       "    </tr>\n",
       "    <tr>\n",
       "      <th>3</th>\n",
       "      <td>gf</td>\n",
       "      <td>1214.600000</td>\n",
       "      <td>2015-07-28 18:15:08</td>\n",
       "    </tr>\n",
       "    <tr>\n",
       "      <th>5</th>\n",
       "      <td>me</td>\n",
       "      <td>60.133333</td>\n",
       "      <td>2015-07-28 19:15:16</td>\n",
       "    </tr>\n",
       "    <tr>\n",
       "      <th>6</th>\n",
       "      <td>gf</td>\n",
       "      <td>18.616667</td>\n",
       "      <td>2015-07-28 19:33:53</td>\n",
       "    </tr>\n",
       "  </tbody>\n",
       "</table>\n",
       "</div>"
      ],
      "text/plain": [
       "  person        tdiff                time\n",
       "1     gf     0.000000 2015-06-21 21:56:16\n",
       "2     me     4.266667 2015-06-21 22:00:32\n",
       "3     gf  1214.600000 2015-07-28 18:15:08\n",
       "5     me    60.133333 2015-07-28 19:15:16\n",
       "6     gf    18.616667 2015-07-28 19:33:53"
      ]
     },
     "execution_count": 16,
     "metadata": {},
     "output_type": "execute_result"
    }
   ],
   "source": [
    "# select columns of interest\n",
    "gf_tdex = gf_alt.filter(['person','tdiff', 'time'])\n",
    "gf_tdex.head()"
   ]
  },
  {
   "cell_type": "code",
   "execution_count": 17,
   "metadata": {
    "collapsed": true
   },
   "outputs": [],
   "source": [
    "gf_monthly = gf_tdex.groupby('person').resample('M', on='time').mean().reset_index()\n",
    "gf_monthly.head()\n",
    "gf_monthly['time'] = gf_monthly['time'].map(lambda x: x.strftime('%Y-%m-%d'))"
   ]
  },
  {
   "cell_type": "code",
   "execution_count": 18,
   "metadata": {},
   "outputs": [
    {
     "data": {
      "image/png": "[encoded data removed]",
      "text/plain": [
       "<matplotlib.figure.Figure at 0x118d87048>"
      ]
     },
     "metadata": {},
     "output_type": "display_data"
    }
   ],
   "source": [
    "gf_monthly\n",
    "\n",
    "fig, ax = plt.subplots()\n",
    "sns.barplot('time', 'tdiff', data=gf_monthly, hue='person', ax=ax)\n",
    "plt.xticks(rotation=80)\n",
    "plt.xlabel('Month')\n",
    "plt.ylabel('Average Reply time / month (minutes)')\n",
    "plt.title('Distribution of Reply times/ month since 2015')\n",
    "plt.tight_layout()\n",
    "plt.savefig('replytimes.png', dpi=1000)"
   ]
  },
  {
   "cell_type": "markdown",
   "metadata": {
    "collapsed": true
   },
   "source": [
    "Ahh, this is more revealing! I was slower to reply each month on averaage from August 2015 until July 2016 when I became faster at replying to text messages on average every month. What this analysis overlooks is the difference in overnight text messages. The times that we really care about in terms of the 'time to reply' are only in the day time, and overnight time to reply could be skewing these averages. So I will remove texts form between 10pm and 6 am, then take the average reply times for this subset. "
   ]
  },
  {
   "cell_type": "code",
   "execution_count": 19,
   "metadata": {},
   "outputs": [
    {
     "data": {
      "text/html": [
       "<div>\n",
       "<style>\n",
       "    .dataframe thead tr:only-child th {\n",
       "        text-align: right;\n",
       "    }\n",
       "\n",
       "    .dataframe thead th {\n",
       "        text-align: left;\n",
       "    }\n",
       "\n",
       "    .dataframe tbody tr th {\n",
       "        vertical-align: top;\n",
       "    }\n",
       "</style>\n",
       "<table border=\"1\" class=\"dataframe\">\n",
       "  <thead>\n",
       "    <tr style=\"text-align: right;\">\n",
       "      <th></th>\n",
       "      <th>person</th>\n",
       "      <th>time</th>\n",
       "      <th>date</th>\n",
       "      <th>hour</th>\n",
       "    </tr>\n",
       "  </thead>\n",
       "  <tbody>\n",
       "    <tr>\n",
       "      <th>1</th>\n",
       "      <td>gf</td>\n",
       "      <td>2015-06-21 21:56:16</td>\n",
       "      <td>2015-06-21</td>\n",
       "      <td>21:56:16</td>\n",
       "    </tr>\n",
       "    <tr>\n",
       "      <th>3</th>\n",
       "      <td>gf</td>\n",
       "      <td>2015-07-28 18:15:08</td>\n",
       "      <td>2015-07-28</td>\n",
       "      <td>18:15:08</td>\n",
       "    </tr>\n",
       "    <tr>\n",
       "      <th>4</th>\n",
       "      <td>me</td>\n",
       "      <td>2015-07-28 19:15:06</td>\n",
       "      <td>2015-07-28</td>\n",
       "      <td>19:15:06</td>\n",
       "    </tr>\n",
       "    <tr>\n",
       "      <th>5</th>\n",
       "      <td>me</td>\n",
       "      <td>2015-07-28 19:15:16</td>\n",
       "      <td>2015-07-28</td>\n",
       "      <td>19:15:16</td>\n",
       "    </tr>\n",
       "    <tr>\n",
       "      <th>6</th>\n",
       "      <td>gf</td>\n",
       "      <td>2015-07-28 19:33:53</td>\n",
       "      <td>2015-07-28</td>\n",
       "      <td>19:33:53</td>\n",
       "    </tr>\n",
       "  </tbody>\n",
       "</table>\n",
       "</div>"
      ],
      "text/plain": [
       "  person                time        date     hour\n",
       "1     gf 2015-06-21 21:56:16  2015-06-21 21:56:16\n",
       "3     gf 2015-07-28 18:15:08  2015-07-28 18:15:08\n",
       "4     me 2015-07-28 19:15:06  2015-07-28 19:15:06\n",
       "5     me 2015-07-28 19:15:16  2015-07-28 19:15:16\n",
       "6     gf 2015-07-28 19:33:53  2015-07-28 19:33:53"
      ]
     },
     "execution_count": 19,
     "metadata": {},
     "output_type": "execute_result"
    }
   ],
   "source": [
    "# new column with only date\n",
    "gf_txt2['date'] = gf_txt2['time'].map(lambda x: str(x).split()[0])\n",
    "\n",
    "# new column with only time\n",
    "gf_txt2['hour'] = pd.to_timedelta(gf_txt2['time'].map(lambda x: str(x).split()[1]))\n",
    "\n",
    "# set time mask \n",
    "mask = (gf_txt2['hour'] < pd.to_timedelta('22:00:00')) & (gf_txt2['hour'] > pd.to_timedelta('06:00:00'))\n",
    "gf_daytime = gf_txt2[mask]\n",
    "\n",
    "gf_daytime.head()"
   ]
  },
  {
   "cell_type": "markdown",
   "metadata": {},
   "source": [
    "Filtering based on time like this made it so there were some repetative persons again, this can be fixed with a shift the same way it was before. "
   ]
  },
  {
   "cell_type": "code",
   "execution_count": 20,
   "metadata": {},
   "outputs": [
    {
     "name": "stderr",
     "output_type": "stream",
     "text": [
      "/Users/JakeVanCampen/anaconda/lib/python3.6/site-packages/ipykernel_launcher.py:2: SettingWithCopyWarning: \n",
      "A value is trying to be set on a copy of a slice from a DataFrame.\n",
      "Try using .loc[row_indexer,col_indexer] = value instead\n",
      "\n",
      "See the caveats in the documentation: http://pandas.pydata.org/pandas-docs/stable/indexing.html#indexing-view-versus-copy\n",
      "  \n"
     ]
    }
   ],
   "source": [
    "# create pnext that is shifted version of person\n",
    "gf_daytime['pnext2'] = gf_daytime.person.shift(-1)\n",
    "\n",
    "# make new dataframe where each row is a change in the person who is texting\n",
    "gf_daytime = gf_daytime.loc[gf_daytime['person'] != gf_daytime['pnext2']]\n",
    "gf_daytime.head()\n",
    "\n",
    "# groupby date to remove diffs that carry over a day\n",
    "group = gf_daytime.groupby(by='date')\n",
    "\n",
    "# compute time difference in seconds as new column\n",
    "gf_daytime['tdiff'] = group['time'].diff().dt.seconds.div(60, fill_value = 0)\n",
    "gf_daytime.head(20)\n",
    "\n",
    "# Select only non-zero rows\n",
    "gf_daytime = gf_daytime[gf_daytime['tdiff'] != 0]"
   ]
  },
  {
   "cell_type": "markdown",
   "metadata": {},
   "source": [
    "The reply times that carry over a day need to be removed. \n",
    "\n",
    "Now the same monthly resampled averageing can be done and summarized in a plot."
   ]
  },
  {
   "cell_type": "code",
   "execution_count": 21,
   "metadata": {},
   "outputs": [
    {
     "name": "stdout",
     "output_type": "stream",
     "text": [
      "My average reply time since 2015 between 6am and 10pm: 42.28 minutes.\n",
      "Gf's average reply time since 2015 between 6am and 10pm: 53.08 minutes.\n"
     ]
    },
    {
     "data": {
      "image/png": "[encoded data removed]",
      "text/plain": [
       "<matplotlib.figure.Figure at 0x11b819278>"
      ]
     },
     "metadata": {},
     "output_type": "display_data"
    }
   ],
   "source": [
    "# select columns of interest\n",
    "gf_daytime = gf_daytime.filter(['person','tdiff', 'time'])\n",
    "\n",
    "gf_monthly2 = gf_daytime.groupby('person').resample('M', on='time').mean().reset_index()\n",
    "gf_monthly2.head()\n",
    "gf_monthly2['time'] = gf_monthly2['time'].map(lambda x: x.strftime('%Y-%m-%d'))\n",
    "\n",
    "\n",
    "fig, ax = plt.subplots()\n",
    "sns.barplot('time', 'tdiff', data=gf_monthly2, hue='person', ax=ax)\n",
    "plt.xticks(rotation=80)\n",
    "plt.xlabel('Month')\n",
    "plt.ylabel('Average Reply time / month (minutes)')\n",
    "plt.title('Average reply time betweeen 6am and 10pm \\n per month since 2015')\n",
    "plt.tight_layout()\n",
    "plt.savefig('replytimes_day.png', dpi=1000)\n",
    "\n",
    "print(\"My average reply time since 2015 between 6am and 10pm: \" +\n",
    "      str(round(gf_monthly2[gf_monthly2['person'] == 'me'].mean()[0], 2))  + \" minutes.\")\n",
    "\n",
    "print(\"Gf's average reply time since 2015 between 6am and 10pm: \" +\n",
    "      str(round(gf_monthly2[gf_monthly2['person'] == 'gf'].mean()[0], 2)) + \" minutes.\")\n"
   ]
  },
  {
   "cell_type": "markdown",
   "metadata": {},
   "source": [
    "Filtering out the nights, and removing overnight replies certainly changed the structure of the data. The overall averages suggest only a difference in reply time of about 6 minutes between gf and I. The graph also shows more clearly certain months that have greater or smaller reply times on both of our parts. Given this new graph, I'd say it's about even!"
   ]
  },
  {
   "cell_type": "code",
   "execution_count": null,
   "metadata": {
    "collapsed": true
   },
   "outputs": [],
   "source": []
  }
 ],
 "metadata": {
  "kernelspec": {
   "display_name": "Python 3",
   "language": "python",
   "name": "python3"
  },
  "language_info": {
   "codemirror_mode": {
    "name": "ipython",
    "version": 3
   },
   "file_extension": ".py",
   "mimetype": "text/x-python",
   "name": "python",
   "nbconvert_exporter": "python",
   "pygments_lexer": "ipython3",
   "version": "3.6.3"
  }
 },
 "nbformat": 4,
 "nbformat_minor": 2
}
