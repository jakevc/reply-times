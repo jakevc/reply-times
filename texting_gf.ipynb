{
 "cells": [
  {
   "cell_type": "markdown",
   "metadata": {},
   "source": [
    "My girlfriend recently said on the phone to me, 'You probably take an hour on average to reply every time I text you.' I then asked myself, how long does it take me to reply? To answer this question I would need to accesss the metadata from my imessages.. I was not entirely sure how to do this, but upon searching around for how to get these data I found a brilliant app by Ryan D'souza, the [iMessageAnalyzer](https://github.com/dsouzarc/iMessageAnalyzer). This allowed me to quickly download a csv of my conversation of interest.\n",
    "\n",
    "\n",
    "Here I will explore the average time it takes me to reply to my girlfriend over iMessage. The data have been masked so that my name is 'me', and my girlfriend is 'gf'; the column containing the text message at each time point was removed."
   ]
  },
  {
   "cell_type": "code",
   "execution_count": 23,
   "metadata": {
    "collapsed": true
   },
   "outputs": [],
   "source": [
    "import pandas as pd "
   ]
  },
  {
   "cell_type": "code",
   "execution_count": 24,
   "metadata": {},
   "outputs": [],
   "source": [
    "gf_txt = pd.read_csv('gftxt.csv', names=['person', 'time'], parse_dates=True, header=1)"
   ]
  },
  {
   "cell_type": "markdown",
   "metadata": {},
   "source": [
    "It looks like all the information I need is in the first two columns: 'person' and 'time'. I'll store a new instance of the data frame. "
   ]
  },
  {
   "cell_type": "code",
   "execution_count": 25,
   "metadata": {},
   "outputs": [
    {
     "data": {
      "text/html": [
       "<div>\n",
       "<style>\n",
       "    .dataframe thead tr:only-child th {\n",
       "        text-align: right;\n",
       "    }\n",
       "\n",
       "    .dataframe thead th {\n",
       "        text-align: left;\n",
       "    }\n",
       "\n",
       "    .dataframe tbody tr th {\n",
       "        vertical-align: top;\n",
       "    }\n",
       "</style>\n",
       "<table border=\"1\" class=\"dataframe\">\n",
       "  <thead>\n",
       "    <tr style=\"text-align: right;\">\n",
       "      <th></th>\n",
       "      <th>person</th>\n",
       "      <th>time</th>\n",
       "    </tr>\n",
       "  </thead>\n",
       "  <tbody>\n",
       "    <tr>\n",
       "      <th>1</th>\n",
       "      <td>gf</td>\n",
       "      <td>2015-06-21 21:56:16 +0000</td>\n",
       "    </tr>\n",
       "    <tr>\n",
       "      <th>2</th>\n",
       "      <td>me</td>\n",
       "      <td>2015-06-21 22:00:32 +0000</td>\n",
       "    </tr>\n",
       "    <tr>\n",
       "      <th>3</th>\n",
       "      <td>gf</td>\n",
       "      <td>2015-07-28 18:15:08 +0000</td>\n",
       "    </tr>\n",
       "    <tr>\n",
       "      <th>4</th>\n",
       "      <td>me</td>\n",
       "      <td>2015-07-28 19:15:06 +0000</td>\n",
       "    </tr>\n",
       "    <tr>\n",
       "      <th>5</th>\n",
       "      <td>me</td>\n",
       "      <td>2015-07-28 19:15:16 +0000</td>\n",
       "    </tr>\n",
       "  </tbody>\n",
       "</table>\n",
       "</div>"
      ],
      "text/plain": [
       "  person                       time\n",
       "1     gf  2015-06-21 21:56:16 +0000\n",
       "2     me  2015-06-21 22:00:32 +0000\n",
       "3     gf  2015-07-28 18:15:08 +0000\n",
       "4     me  2015-07-28 19:15:06 +0000\n",
       "5     me  2015-07-28 19:15:16 +0000"
      ]
     },
     "execution_count": 25,
     "metadata": {},
     "output_type": "execute_result"
    }
   ],
   "source": [
    "gf_txt.head()"
   ]
  },
  {
   "cell_type": "code",
   "execution_count": 26,
   "metadata": {},
   "outputs": [
    {
     "data": {
      "text/plain": [
       "person    object\n",
       "time      object\n",
       "dtype: object"
      ]
     },
     "execution_count": 26,
     "metadata": {},
     "output_type": "execute_result"
    }
   ],
   "source": [
    "gf_txt.dtypes"
   ]
  },
  {
   "cell_type": "markdown",
   "metadata": {},
   "source": [
    "Looks like I need to change the time column to datetime!"
   ]
  },
  {
   "cell_type": "code",
   "execution_count": 27,
   "metadata": {},
   "outputs": [],
   "source": [
    "gf_txt['time'] = pd.to_datetime(gf_txt['time'])"
   ]
  },
  {
   "cell_type": "code",
   "execution_count": 28,
   "metadata": {},
   "outputs": [
    {
     "data": {
      "text/html": [
       "<div>\n",
       "<style>\n",
       "    .dataframe thead tr:only-child th {\n",
       "        text-align: right;\n",
       "    }\n",
       "\n",
       "    .dataframe thead th {\n",
       "        text-align: left;\n",
       "    }\n",
       "\n",
       "    .dataframe tbody tr th {\n",
       "        vertical-align: top;\n",
       "    }\n",
       "</style>\n",
       "<table border=\"1\" class=\"dataframe\">\n",
       "  <thead>\n",
       "    <tr style=\"text-align: right;\">\n",
       "      <th></th>\n",
       "      <th>person</th>\n",
       "      <th>time</th>\n",
       "    </tr>\n",
       "  </thead>\n",
       "  <tbody>\n",
       "    <tr>\n",
       "      <th>1</th>\n",
       "      <td>gf</td>\n",
       "      <td>2015-06-21 21:56:16</td>\n",
       "    </tr>\n",
       "    <tr>\n",
       "      <th>2</th>\n",
       "      <td>me</td>\n",
       "      <td>2015-06-21 22:00:32</td>\n",
       "    </tr>\n",
       "    <tr>\n",
       "      <th>3</th>\n",
       "      <td>gf</td>\n",
       "      <td>2015-07-28 18:15:08</td>\n",
       "    </tr>\n",
       "    <tr>\n",
       "      <th>4</th>\n",
       "      <td>me</td>\n",
       "      <td>2015-07-28 19:15:06</td>\n",
       "    </tr>\n",
       "    <tr>\n",
       "      <th>5</th>\n",
       "      <td>me</td>\n",
       "      <td>2015-07-28 19:15:16</td>\n",
       "    </tr>\n",
       "    <tr>\n",
       "      <th>6</th>\n",
       "      <td>gf</td>\n",
       "      <td>2015-07-28 19:33:53</td>\n",
       "    </tr>\n",
       "    <tr>\n",
       "      <th>7</th>\n",
       "      <td>me</td>\n",
       "      <td>2015-07-28 20:02:39</td>\n",
       "    </tr>\n",
       "    <tr>\n",
       "      <th>8</th>\n",
       "      <td>me</td>\n",
       "      <td>2015-07-28 21:42:38</td>\n",
       "    </tr>\n",
       "    <tr>\n",
       "      <th>9</th>\n",
       "      <td>gf</td>\n",
       "      <td>2015-07-29 05:13:23</td>\n",
       "    </tr>\n",
       "    <tr>\n",
       "      <th>10</th>\n",
       "      <td>me</td>\n",
       "      <td>2015-07-29 05:14:40</td>\n",
       "    </tr>\n",
       "    <tr>\n",
       "      <th>11</th>\n",
       "      <td>gf</td>\n",
       "      <td>2015-07-29 05:26:33</td>\n",
       "    </tr>\n",
       "    <tr>\n",
       "      <th>12</th>\n",
       "      <td>me</td>\n",
       "      <td>2015-07-29 14:08:14</td>\n",
       "    </tr>\n",
       "    <tr>\n",
       "      <th>13</th>\n",
       "      <td>me</td>\n",
       "      <td>2015-08-01 19:12:19</td>\n",
       "    </tr>\n",
       "    <tr>\n",
       "      <th>14</th>\n",
       "      <td>gf</td>\n",
       "      <td>2015-08-01 20:14:41</td>\n",
       "    </tr>\n",
       "    <tr>\n",
       "      <th>15</th>\n",
       "      <td>me</td>\n",
       "      <td>2015-08-01 22:45:11</td>\n",
       "    </tr>\n",
       "    <tr>\n",
       "      <th>16</th>\n",
       "      <td>me</td>\n",
       "      <td>2015-08-01 22:45:16</td>\n",
       "    </tr>\n",
       "    <tr>\n",
       "      <th>17</th>\n",
       "      <td>me</td>\n",
       "      <td>2015-08-01 22:45:30</td>\n",
       "    </tr>\n",
       "    <tr>\n",
       "      <th>18</th>\n",
       "      <td>gf</td>\n",
       "      <td>2015-08-01 22:48:19</td>\n",
       "    </tr>\n",
       "    <tr>\n",
       "      <th>19</th>\n",
       "      <td>me</td>\n",
       "      <td>2015-08-01 22:48:34</td>\n",
       "    </tr>\n",
       "    <tr>\n",
       "      <th>20</th>\n",
       "      <td>gf</td>\n",
       "      <td>2015-08-01 23:55:38</td>\n",
       "    </tr>\n",
       "  </tbody>\n",
       "</table>\n",
       "</div>"
      ],
      "text/plain": [
       "   person                time\n",
       "1      gf 2015-06-21 21:56:16\n",
       "2      me 2015-06-21 22:00:32\n",
       "3      gf 2015-07-28 18:15:08\n",
       "4      me 2015-07-28 19:15:06\n",
       "5      me 2015-07-28 19:15:16\n",
       "6      gf 2015-07-28 19:33:53\n",
       "7      me 2015-07-28 20:02:39\n",
       "8      me 2015-07-28 21:42:38\n",
       "9      gf 2015-07-29 05:13:23\n",
       "10     me 2015-07-29 05:14:40\n",
       "11     gf 2015-07-29 05:26:33\n",
       "12     me 2015-07-29 14:08:14\n",
       "13     me 2015-08-01 19:12:19\n",
       "14     gf 2015-08-01 20:14:41\n",
       "15     me 2015-08-01 22:45:11\n",
       "16     me 2015-08-01 22:45:16\n",
       "17     me 2015-08-01 22:45:30\n",
       "18     gf 2015-08-01 22:48:19\n",
       "19     me 2015-08-01 22:48:34\n",
       "20     gf 2015-08-01 23:55:38"
      ]
     },
     "execution_count": 28,
     "metadata": {},
     "output_type": "execute_result"
    }
   ],
   "source": [
    "gf_txt.head(20)"
   ]
  },
  {
   "cell_type": "code",
   "execution_count": 29,
   "metadata": {},
   "outputs": [
    {
     "data": {
      "text/plain": [
       "person            object\n",
       "time      datetime64[ns]\n",
       "dtype: object"
      ]
     },
     "execution_count": 29,
     "metadata": {},
     "output_type": "execute_result"
    }
   ],
   "source": [
    "gf_txt.dtypes"
   ]
  },
  {
   "cell_type": "markdown",
   "metadata": {},
   "source": [
    "It is evident sometimes one person texts the other twice, three times, etc... I only want the difference between rows where 'person' changes. To do this I will create a new row called pdiff which is just person shifted up so that I can compare the next row (pnext) to the current row (person). Then I need to select only rows where 'person' is not equal to 'pnext'."
   ]
  },
  {
   "cell_type": "code",
   "execution_count": 30,
   "metadata": {},
   "outputs": [
    {
     "data": {
      "text/html": [
       "<div>\n",
       "<style>\n",
       "    .dataframe thead tr:only-child th {\n",
       "        text-align: right;\n",
       "    }\n",
       "\n",
       "    .dataframe thead th {\n",
       "        text-align: left;\n",
       "    }\n",
       "\n",
       "    .dataframe tbody tr th {\n",
       "        vertical-align: top;\n",
       "    }\n",
       "</style>\n",
       "<table border=\"1\" class=\"dataframe\">\n",
       "  <thead>\n",
       "    <tr style=\"text-align: right;\">\n",
       "      <th></th>\n",
       "      <th>person</th>\n",
       "      <th>time</th>\n",
       "      <th>pnext</th>\n",
       "    </tr>\n",
       "  </thead>\n",
       "  <tbody>\n",
       "    <tr>\n",
       "      <th>1</th>\n",
       "      <td>gf</td>\n",
       "      <td>2015-06-21 21:56:16</td>\n",
       "      <td>me</td>\n",
       "    </tr>\n",
       "    <tr>\n",
       "      <th>2</th>\n",
       "      <td>me</td>\n",
       "      <td>2015-06-21 22:00:32</td>\n",
       "      <td>gf</td>\n",
       "    </tr>\n",
       "    <tr>\n",
       "      <th>3</th>\n",
       "      <td>gf</td>\n",
       "      <td>2015-07-28 18:15:08</td>\n",
       "      <td>me</td>\n",
       "    </tr>\n",
       "    <tr>\n",
       "      <th>5</th>\n",
       "      <td>me</td>\n",
       "      <td>2015-07-28 19:15:16</td>\n",
       "      <td>gf</td>\n",
       "    </tr>\n",
       "    <tr>\n",
       "      <th>6</th>\n",
       "      <td>gf</td>\n",
       "      <td>2015-07-28 19:33:53</td>\n",
       "      <td>me</td>\n",
       "    </tr>\n",
       "  </tbody>\n",
       "</table>\n",
       "</div>"
      ],
      "text/plain": [
       "  person                time pnext\n",
       "1     gf 2015-06-21 21:56:16    me\n",
       "2     me 2015-06-21 22:00:32    gf\n",
       "3     gf 2015-07-28 18:15:08    me\n",
       "5     me 2015-07-28 19:15:16    gf\n",
       "6     gf 2015-07-28 19:33:53    me"
      ]
     },
     "execution_count": 30,
     "metadata": {},
     "output_type": "execute_result"
    }
   ],
   "source": [
    "gf_txt['pnext'] = gf_txt.person.shift(-1)\n",
    "gf_alt = gf_txt.loc[gf_txt['person'] != gf_txt['pnext']].copy()\n",
    "gf_alt.head()"
   ]
  },
  {
   "cell_type": "markdown",
   "metadata": {},
   "source": [
    "Great, now I can compute the time difference between the two entries. "
   ]
  },
  {
   "cell_type": "code",
   "execution_count": 31,
   "metadata": {},
   "outputs": [
    {
     "data": {
      "text/html": [
       "<div>\n",
       "<style>\n",
       "    .dataframe thead tr:only-child th {\n",
       "        text-align: right;\n",
       "    }\n",
       "\n",
       "    .dataframe thead th {\n",
       "        text-align: left;\n",
       "    }\n",
       "\n",
       "    .dataframe tbody tr th {\n",
       "        vertical-align: top;\n",
       "    }\n",
       "</style>\n",
       "<table border=\"1\" class=\"dataframe\">\n",
       "  <thead>\n",
       "    <tr style=\"text-align: right;\">\n",
       "      <th></th>\n",
       "      <th>person</th>\n",
       "      <th>time</th>\n",
       "      <th>pnext</th>\n",
       "      <th>tdiff</th>\n",
       "    </tr>\n",
       "  </thead>\n",
       "  <tbody>\n",
       "    <tr>\n",
       "      <th>1</th>\n",
       "      <td>gf</td>\n",
       "      <td>2015-06-21 21:56:16</td>\n",
       "      <td>me</td>\n",
       "      <td>0.000000</td>\n",
       "    </tr>\n",
       "    <tr>\n",
       "      <th>2</th>\n",
       "      <td>me</td>\n",
       "      <td>2015-06-21 22:00:32</td>\n",
       "      <td>gf</td>\n",
       "      <td>4.266667</td>\n",
       "    </tr>\n",
       "    <tr>\n",
       "      <th>3</th>\n",
       "      <td>gf</td>\n",
       "      <td>2015-07-28 18:15:08</td>\n",
       "      <td>me</td>\n",
       "      <td>1214.600000</td>\n",
       "    </tr>\n",
       "    <tr>\n",
       "      <th>5</th>\n",
       "      <td>me</td>\n",
       "      <td>2015-07-28 19:15:16</td>\n",
       "      <td>gf</td>\n",
       "      <td>60.133333</td>\n",
       "    </tr>\n",
       "    <tr>\n",
       "      <th>6</th>\n",
       "      <td>gf</td>\n",
       "      <td>2015-07-28 19:33:53</td>\n",
       "      <td>me</td>\n",
       "      <td>18.616667</td>\n",
       "    </tr>\n",
       "  </tbody>\n",
       "</table>\n",
       "</div>"
      ],
      "text/plain": [
       "  person                time pnext        tdiff\n",
       "1     gf 2015-06-21 21:56:16    me     0.000000\n",
       "2     me 2015-06-21 22:00:32    gf     4.266667\n",
       "3     gf 2015-07-28 18:15:08    me  1214.600000\n",
       "5     me 2015-07-28 19:15:16    gf    60.133333\n",
       "6     gf 2015-07-28 19:33:53    me    18.616667"
      ]
     },
     "execution_count": 31,
     "metadata": {},
     "output_type": "execute_result"
    }
   ],
   "source": [
    "gf_alt['tdiff'] = gf_alt['time'].diff().dt.seconds.div(60, fill_value = 0)\n",
    "gf_alt.head()"
   ]
  },
  {
   "cell_type": "markdown",
   "metadata": {},
   "source": [
    "The dataframe now has column 'tdiff' representing the time in minutes since the last person. Becasue I have ensured that persons are truely alternating, the 'tdiff' column represents the reply time for the current person. Let's see each person's global average reply time."
   ]
  },
  {
   "cell_type": "code",
   "execution_count": 32,
   "metadata": {},
   "outputs": [
    {
     "data": {
      "text/plain": [
       "person   NaN\n",
       "time     NaN\n",
       "pnext    NaN\n",
       "tdiff    NaN\n",
       "dtype: float64"
      ]
     },
     "execution_count": 32,
     "metadata": {},
     "output_type": "execute_result"
    }
   ],
   "source": [
    "gf_alt[gf_alt['person'] == 'Jake VanCampen'].mean()"
   ]
  },
  {
   "cell_type": "code",
   "execution_count": 33,
   "metadata": {},
   "outputs": [
    {
     "data": {
      "text/plain": [
       "person   NaN\n",
       "time     NaN\n",
       "pnext    NaN\n",
       "tdiff    NaN\n",
       "dtype: float64"
      ]
     },
     "execution_count": 33,
     "metadata": {},
     "output_type": "execute_result"
    }
   ],
   "source": [
    "gf_alt[gf_alt['person'] == 'Heidi 🐴❤️ Grompe'].mean()"
   ]
  },
  {
   "cell_type": "markdown",
   "metadata": {},
   "source": [
    "Ha! It looks like Heidi actually has a longer global average time to reply at 159 minutes, whereas my global average time to reply is about 135 minutes. Let's get a visual of these data."
   ]
  },
  {
   "cell_type": "code",
   "execution_count": 34,
   "metadata": {
    "collapsed": true
   },
   "outputs": [],
   "source": [
    "%matplotlib inline"
   ]
  },
  {
   "cell_type": "code",
   "execution_count": 35,
   "metadata": {
    "collapsed": true
   },
   "outputs": [],
   "source": [
    "import matplotlib as mpl\n",
    "import matplotlib.pyplot as plt\n",
    "import matplotlib.dates as mdates "
   ]
  },
  {
   "cell_type": "code",
   "execution_count": 36,
   "metadata": {
    "collapsed": true
   },
   "outputs": [],
   "source": [
    "import seaborn as sns\n"
   ]
  },
  {
   "cell_type": "code",
   "execution_count": 37,
   "metadata": {},
   "outputs": [
    {
     "data": {
      "text/plain": [
       "[<matplotlib.lines.Line2D at 0x10eac8080>]"
      ]
     },
     "execution_count": 37,
     "metadata": {},
     "output_type": "execute_result"
    },
    {
     "data": {
      "image/png": "[encoded data removed]",
      "text/plain": [
       "<matplotlib.figure.Figure at 0x11a03b588>"
      ]
     },
     "metadata": {},
     "output_type": "display_data"
    }
   ],
   "source": [
    "plt.plot(gf_alt['time'], gf_alt['tdiff'])"
   ]
  },
  {
   "cell_type": "markdown",
   "metadata": {},
   "source": [
    "This is hard to visualize, it may be better to visualize using a monthly average of the difference. "
   ]
  },
  {
   "cell_type": "code",
   "execution_count": 38,
   "metadata": {},
   "outputs": [
    {
     "data": {
      "text/html": [
       "<div>\n",
       "<style>\n",
       "    .dataframe thead tr:only-child th {\n",
       "        text-align: right;\n",
       "    }\n",
       "\n",
       "    .dataframe thead th {\n",
       "        text-align: left;\n",
       "    }\n",
       "\n",
       "    .dataframe tbody tr th {\n",
       "        vertical-align: top;\n",
       "    }\n",
       "</style>\n",
       "<table border=\"1\" class=\"dataframe\">\n",
       "  <thead>\n",
       "    <tr style=\"text-align: right;\">\n",
       "      <th></th>\n",
       "      <th>person</th>\n",
       "      <th>tdiff</th>\n",
       "      <th>time</th>\n",
       "    </tr>\n",
       "  </thead>\n",
       "  <tbody>\n",
       "    <tr>\n",
       "      <th>1</th>\n",
       "      <td>gf</td>\n",
       "      <td>0.000000</td>\n",
       "      <td>2015-06-21 21:56:16</td>\n",
       "    </tr>\n",
       "    <tr>\n",
       "      <th>2</th>\n",
       "      <td>me</td>\n",
       "      <td>4.266667</td>\n",
       "      <td>2015-06-21 22:00:32</td>\n",
       "    </tr>\n",
       "    <tr>\n",
       "      <th>3</th>\n",
       "      <td>gf</td>\n",
       "      <td>1214.600000</td>\n",
       "      <td>2015-07-28 18:15:08</td>\n",
       "    </tr>\n",
       "    <tr>\n",
       "      <th>5</th>\n",
       "      <td>me</td>\n",
       "      <td>60.133333</td>\n",
       "      <td>2015-07-28 19:15:16</td>\n",
       "    </tr>\n",
       "    <tr>\n",
       "      <th>6</th>\n",
       "      <td>gf</td>\n",
       "      <td>18.616667</td>\n",
       "      <td>2015-07-28 19:33:53</td>\n",
       "    </tr>\n",
       "  </tbody>\n",
       "</table>\n",
       "</div>"
      ],
      "text/plain": [
       "  person        tdiff                time\n",
       "1     gf     0.000000 2015-06-21 21:56:16\n",
       "2     me     4.266667 2015-06-21 22:00:32\n",
       "3     gf  1214.600000 2015-07-28 18:15:08\n",
       "5     me    60.133333 2015-07-28 19:15:16\n",
       "6     gf    18.616667 2015-07-28 19:33:53"
      ]
     },
     "execution_count": 38,
     "metadata": {},
     "output_type": "execute_result"
    }
   ],
   "source": [
    "gf_tdex = gf_alt.filter(['person','tdiff', 'time'])\n",
    "gf_tdex.head()"
   ]
  },
  {
   "cell_type": "code",
   "execution_count": 39,
   "metadata": {
    "collapsed": true
   },
   "outputs": [],
   "source": [
    "gf_monthly = gf_tdex.groupby('person').resample('M', on='time').mean().reset_index()\n",
    "gf_monthly.head()\n",
    "gf_monthly['time'] = gf_monthly['time'].map(lambda x: x.strftime('%Y-%m-%d'))"
   ]
  },
  {
   "cell_type": "code",
   "execution_count": 40,
   "metadata": {},
   "outputs": [
    {
     "data": {
      "image/png": "[encoded data removed]",
      "text/plain": [
       "<matplotlib.figure.Figure at 0x10eab6b38>"
      ]
     },
     "metadata": {},
     "output_type": "display_data"
    }
   ],
   "source": [
    "gf_monthly\n",
    "\n",
    "fig, ax = plt.subplots()\n",
    "sns.barplot('time', 'tdiff', data=gf_monthly, hue='person', ax=ax)\n",
    "plt.xticks(rotation=80)\n",
    "plt.xlabel('Month')\n",
    "plt.ylabel('Average Reply time / month (minutes)')\n",
    "plt.title('Distribution of Reply times/ month since 2015')\n",
    "plt.tight_layout()\n",
    "plt.savefig('replytimes.png', dpi=1000)"
   ]
  },
  {
   "cell_type": "markdown",
   "metadata": {},
   "source": [
    "I am pretty confident now that my reply time is a little faste on average than my girlfriend.\n"
   ]
  },
  {
   "cell_type": "code",
   "execution_count": null,
   "metadata": {
    "collapsed": true
   },
   "outputs": [],
   "source": []
  }
 ],
 "metadata": {
  "kernelspec": {
   "display_name": "Python 3",
   "language": "python",
   "name": "python3"
  },
  "language_info": {
   "codemirror_mode": {
    "name": "ipython",
    "version": 3
   },
   "file_extension": ".py",
   "mimetype": "text/x-python",
   "name": "python",
   "nbconvert_exporter": "python",
   "pygments_lexer": "ipython3",
   "version": "3.6.2"
  }
 },
 "nbformat": 4,
 "nbformat_minor": 2
}
